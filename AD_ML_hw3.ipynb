{
 "cells": [
  {
   "cell_type": "code",
   "execution_count": 1,
   "id": "dacc9876",
   "metadata": {},
   "outputs": [],
   "source": [
    "import pandas as pd\n",
    "import numpy as np\n",
    "import os\n",
    "from itertools import product\n",
    "import string\n",
    "import regex\n",
    "import re\n",
    "import random\n",
    "from collections import OrderedDict, defaultdict\n",
    "from operator import itemgetter\n",
    "from collections import Counter\n",
    "from toolz.dicttoolz import valmap\n",
    "from tqdm import tqdm\n",
    "from itertools import product, zip_longest\n",
    "import functools\n",
    "import copy"
   ]
  },
  {
   "cell_type": "markdown",
   "id": "4fd92d3b",
   "metadata": {},
   "source": [
    "## Part 1"
   ]
  },
  {
   "cell_type": "code",
   "execution_count": 2,
   "id": "c4c89030",
   "metadata": {},
   "outputs": [],
   "source": [
    "russian_pattern = r'[^\\p{Cyrillic} ]'\n",
    "alphabet = [*'абвгдеёжзийклмнопрстуфхцчшщъыьэюя ']"
   ]
  },
  {
   "cell_type": "code",
   "execution_count": 3,
   "id": "1c975e55",
   "metadata": {},
   "outputs": [],
   "source": [
    "def preprocess_string(line, language_pattern=russian_pattern):\n",
    "    line = line.strip().lower().translate(str.maketrans('', '', string.punctuation))\n",
    "    line = line.replace('\\t', '').replace('\\n', '').replace('ї', '').replace('–', '').replace('—', '')\n",
    "    line = regex.sub(language_pattern, '', line)\n",
    "    line = line.translate(str.maketrans('', '', string.digits))\n",
    "    line = re.sub(' +', ' ', line)\n",
    "    \n",
    "    return line"
   ]
  },
  {
   "cell_type": "code",
   "execution_count": 4,
   "id": "f261020f",
   "metadata": {},
   "outputs": [],
   "source": [
    "def read_file_text(text_path):\n",
    "    text = []\n",
    "\n",
    "    with open(text_path) as f:\n",
    "        for line in f.readlines():\n",
    "            line = line.strip().lower().translate(str.maketrans('', '', string.punctuation))\n",
    "            line = line.replace('\\t', '').replace('\\n', '').replace('–', '').replace('—', '')\n",
    "\n",
    "            if len(line):\n",
    "                text.append(line)\n",
    "    return text"
   ]
  },
  {
   "cell_type": "code",
   "execution_count": 5,
   "id": "7ca96566",
   "metadata": {},
   "outputs": [],
   "source": [
    "def read_preprocess_file_text(text_path, language_pattern=russian_pattern):\n",
    "    text = read_file_text(text_path)\n",
    "    text = [preprocess_string(line, language_pattern) for line in text]        \n",
    "    \n",
    "    return preprocess_string(' '.join(text))"
   ]
  },
  {
   "cell_type": "code",
   "execution_count": 6,
   "id": "43a7c5a5",
   "metadata": {},
   "outputs": [],
   "source": [
    "def dict_to_ordered_sorted(dictionary, key=itemgetter(1), reverse=True):\n",
    "    return OrderedDict(sorted(dictionary.items(), key=key, reverse=reverse))"
   ]
  },
  {
   "cell_type": "code",
   "execution_count": 7,
   "id": "cddec953",
   "metadata": {},
   "outputs": [],
   "source": [
    "def calculate_frequency_for_string(text, n_gram=1):\n",
    "    n_gram_alphabet = set(''.join(n_gram) for n_gram in product(alphabet, repeat=n_gram))\n",
    "    \n",
    "    frequency = {}\n",
    "\n",
    "    for n_gram in n_gram_alphabet:\n",
    "        frequency[n_gram] = text.count(n_gram)\n",
    "        \n",
    "    return dict_to_ordered_sorted(frequency)"
   ]
  },
  {
   "cell_type": "code",
   "execution_count": 8,
   "id": "57dd9752",
   "metadata": {},
   "outputs": [],
   "source": [
    "def encrypt(text, frequency_dict, n_gram=1):\n",
    "    encrypt = {orig: enc for orig, enc in zip(frequency_dict.keys(), random.sample(list(frequency_dict.keys()), k=len(frequency_dict.keys())))}\n",
    "    return ''.join([encrypt[text[i:i + n_gram]] for i in range(0, len(text), n_gram)])"
   ]
  },
  {
   "cell_type": "code",
   "execution_count": 9,
   "id": "856524d4",
   "metadata": {},
   "outputs": [],
   "source": [
    "def decrypt(encrypted_text, frequency_dict, n_gram=1):\n",
    "    frequency_encrypted = calculate_frequency_for_string(encrypted_text, n_gram)\n",
    "    decrypt = {enc: orig for enc, orig in zip(frequency_encrypted.keys(), frequency_dict.keys())}\n",
    "    \n",
    "    return ''.join([decrypt[encrypted_text[i:i + n_gram]] for i in range(0, len(encrypted_text), n_gram)])"
   ]
  },
  {
   "cell_type": "code",
   "execution_count": 10,
   "id": "2c73167f",
   "metadata": {},
   "outputs": [],
   "source": [
    "def cut_text(text, n_gram=1):\n",
    "    text_len = len(text)\n",
    "\n",
    "    while(text_len % n_gram != 0):\n",
    "        text_len -= 1\n",
    "        \n",
    "    return text[:text_len]"
   ]
  },
  {
   "cell_type": "code",
   "execution_count": 11,
   "id": "0f6e2e4e",
   "metadata": {},
   "outputs": [],
   "source": [
    "def decryption_accuracy(original_text, decrypted_text):\n",
    "    correctly_decrypted = 0\n",
    "    \n",
    "    for orig, dec in zip_longest(original_text, decrypted_text, fillvalue=''):\n",
    "        if orig == dec:\n",
    "            correctly_decrypted += 1\n",
    "    \n",
    "    return correctly_decrypted / len(original_text)"
   ]
  },
  {
   "cell_type": "code",
   "execution_count": 12,
   "id": "aa035135",
   "metadata": {},
   "outputs": [],
   "source": [
    "def encrypt_decrypt(text, frequency_dict, n_gram=1, show_n=100):\n",
    "    text = cut_text(text, n_gram)\n",
    "    \n",
    "    print('Original text: \\n')\n",
    "    print(text[:show_n], '\\n')\n",
    "    \n",
    "    encrypted_text = encrypt(text, frequency_dict, n_gram)\n",
    "    \n",
    "    print('Encrypted text: \\n' )\n",
    "    print(encrypted_text[:show_n], '\\n')\n",
    "    \n",
    "    decrypted_text = decrypt(encrypted_text, frequency_dict, n_gram)\n",
    "    \n",
    "    print('Decrypted text: \\n')\n",
    "    print(decrypted_text[:show_n], '\\n')\n",
    "    \n",
    "    print(f'Correctly decrypted percentage: {decryption_accuracy(text, decrypted_text)}')"
   ]
  },
  {
   "cell_type": "code",
   "execution_count": null,
   "id": "4130bda7",
   "metadata": {},
   "outputs": [],
   "source": []
  },
  {
   "cell_type": "code",
   "execution_count": 13,
   "id": "4471f43f",
   "metadata": {},
   "outputs": [],
   "source": [
    "text_rus = read_preprocess_file_text('./corpora/WarAndPeace.txt')"
   ]
  },
  {
   "cell_type": "code",
   "execution_count": 14,
   "id": "56ecd73c",
   "metadata": {},
   "outputs": [],
   "source": [
    "frequency_rus = calculate_frequency_for_string(text_rus)"
   ]
  },
  {
   "cell_type": "code",
   "execution_count": 15,
   "id": "007f9bb5",
   "metadata": {},
   "outputs": [],
   "source": [
    "test_text = read_preprocess_file_text('./corpora/AnnaKarenina.txt')"
   ]
  },
  {
   "cell_type": "code",
   "execution_count": 16,
   "id": "0d61a29f",
   "metadata": {},
   "outputs": [],
   "source": [
    "test_string = preprocess_string('свойство или приспособление организма, потенциально имеющее адаптивную (приспособительную) ценность. Теория преадаптации позволяет описать механизм смены функций органов в процессе эволюции и разрешить парадокс образования органов, конечная функция которых не имела первоначально приспособительной ценности. Концепция преадаптации позволяет разрешить одну из проблем эволюционной теории: невозможность развития сложных приспособлений, которые способны эффективно функционировать, лишь будучи хорошо сформированными. Подобные органы, находясь в зачаточном состоянии, не могут повышать приспособленность организма, а значит, казалось бы, и не могут появиться эволюционным путём. Примерами таких органов являются челюстной аппарат, среднее ухо, плавательный пузырь и др. Идея преадаптации состоит в том, что многие органы и приспособления сформировались, первоначально выполняя иные функции, чем на конечной стадии своего развития. В какой-то момент орган начинает выполнять дополнительную функцию, которая оказывается более ценной, чем первоначальная. В результате эволюция органа (путём естественного отбора) подчиняется требованию улучшения новой функции. Изменение органа в новом направлении может привести к утрате прежней функции. Таким образом, сложные органы даже на начальных стадиях своего эволюционного развития имеют приспособительную ценность, но их начальная функция может быть другой (в тех случаях, когда с точки зрения конечной функции приспособительной ценности нет, тогда и возникает вышеописанный парадокс)')"
   ]
  },
  {
   "cell_type": "code",
   "execution_count": null,
   "id": "b75a381e",
   "metadata": {},
   "outputs": [],
   "source": []
  },
  {
   "cell_type": "code",
   "execution_count": 17,
   "id": "71014615",
   "metadata": {},
   "outputs": [
    {
     "name": "stdout",
     "output_type": "stream",
     "text": [
      "Original text: \n",
      "\n",
      "свойство или приспособление организма потенциально имеющее адаптивную приспособительную ценность тео \n",
      "\n",
      "Encrypted text: \n",
      "\n",
      "атгюачтгиыэыисяыасгагбэнмынигявемыхшеисгчнм ыеэумгиышнёпнниежесчытмдёисяыасгагбычнэумдёи нммгачуичнг \n",
      "\n",
      "Decrypted text: \n",
      "\n",
      "лрожлтро ака всалволойкнеан осзиеаыми вотнегаикуео амншённ ибивтареяш всалволойатнкуеяш гнееолту тно \n",
      "\n",
      "Correctly decrypted percentage: 0.3142664872139973\n"
     ]
    }
   ],
   "source": [
    "encrypt_decrypt(test_string, frequency_rus)"
   ]
  },
  {
   "cell_type": "code",
   "execution_count": null,
   "id": "cc2bc681",
   "metadata": {},
   "outputs": [],
   "source": []
  },
  {
   "cell_type": "code",
   "execution_count": 18,
   "id": "8ca00490",
   "metadata": {},
   "outputs": [
    {
     "name": "stdout",
     "output_type": "stream",
     "text": [
      "Original text: \n",
      "\n",
      "анна каренина один из самых знаменитых романов льва толстого начинается ставшей афоризмом фразой все \n",
      "\n",
      "Encrypted text: \n",
      "\n",
      "чббчфсчхйбшбчфзншбфшыфючолтфыбчойбшьлтфхзочбзкфэукчфьзэюьзщзфбчцшбчйьюефюьчкгйвфчпзхшыозофпхчызвфкюй \n",
      "\n",
      "Decrypted text: \n",
      "\n",
      "аииа кареиниа одни нч самьх чиамеинтьх ромаиов лгва толстоыо иазниается ставшеж афорнчмом фрачож все \n",
      "\n",
      "Correctly decrypted percentage: 0.7855274449249966\n"
     ]
    }
   ],
   "source": [
    "encrypt_decrypt(test_text, frequency_rus)"
   ]
  },
  {
   "cell_type": "markdown",
   "id": "abd077f0",
   "metadata": {},
   "source": [
    "#### Даже на большом тестовом тексте получилась какая-то грусть, хотя, если постараться, большинство слов распознать все равно можно"
   ]
  },
  {
   "cell_type": "code",
   "execution_count": null,
   "id": "ec2181b3",
   "metadata": {},
   "outputs": [],
   "source": []
  },
  {
   "cell_type": "markdown",
   "id": "754df334",
   "metadata": {},
   "source": [
    "## Part 2"
   ]
  },
  {
   "cell_type": "code",
   "execution_count": 19,
   "id": "56acb73e",
   "metadata": {},
   "outputs": [],
   "source": [
    "bigram_frequency_rus = calculate_frequency_for_string(text_rus, n_gram=2)"
   ]
  },
  {
   "cell_type": "code",
   "execution_count": null,
   "id": "995681cf",
   "metadata": {},
   "outputs": [],
   "source": []
  },
  {
   "cell_type": "code",
   "execution_count": 20,
   "id": "2e582bcb",
   "metadata": {},
   "outputs": [
    {
     "name": "stdout",
     "output_type": "stream",
     "text": [
      "Original text: \n",
      "\n",
      "свойство или приспособление организма потенциально имеющее адаптивную приспособительную ценность тео \n",
      "\n",
      "Encrypted text: \n",
      "\n",
      "яёэочэикяезеснекрльыт шельпзерззльеэбркчьёйигпъжвэяе зэесвхищщмечрйкшсти цкчйээжьёъжйкшсёпсхьытёфяпу \n",
      "\n",
      "Decrypted text: \n",
      "\n",
      "рунина ву вео нороь же ли та неси зол  о тбуящска у в внвуюшриоемупаслрачт оерым тскпаслхадаь запомл \n",
      "\n",
      "Correctly decrypted percentage: 0.06123822341857335\n"
     ]
    }
   ],
   "source": [
    "encrypt_decrypt(test_string, bigram_frequency_rus, n_gram=2)"
   ]
  },
  {
   "cell_type": "code",
   "execution_count": 21,
   "id": "0e671d93",
   "metadata": {},
   "outputs": [
    {
     "name": "stdout",
     "output_type": "stream",
     "text": [
      "Original text: \n",
      "\n",
      "анна каренина один из самых знаменитых романов льва толстого начинается ставшей афоризмом фразой все \n",
      "\n",
      "Encrypted text: \n",
      "\n",
      "яулжёшагттооюайцоодхюсппеьйеищчнттсзчъбжпжяущает июабмщпбмбйимцчооёояеитьвчькуьыбрддшзйядфжюпаёълхпэ \n",
      "\n",
      "Decrypted text: \n",
      "\n",
      "вая пошил ита чтитствдпижд эикичл егтдсет вавовсжба тоьстоко смситктрж иь пеылерътанжатвотляасад нти \n",
      "\n",
      "Correctly decrypted percentage: 0.19100160052917864\n"
     ]
    }
   ],
   "source": [
    "encrypt_decrypt(test_text, bigram_frequency_rus, n_gram=2)"
   ]
  },
  {
   "cell_type": "markdown",
   "id": "332b70a7",
   "metadata": {},
   "source": [
    "#### Результат заметно ухудшился, даже визуально видно, что биграммы совмещены совершенно неправильно"
   ]
  },
  {
   "cell_type": "markdown",
   "id": "8663256b",
   "metadata": {},
   "source": [
    "## Part 3"
   ]
  },
  {
   "cell_type": "markdown",
   "id": "b062c554",
   "metadata": {},
   "source": [
    "Метод заключается в следующем: \n",
    "1. генерируем текущий перестановкой символов изначального алфавита (или совмещением целевого алфавита и случайной перестановки имеющегося)\n",
    "2. генерируем предложенный шифр перестановкой двух букв текущего шифра\n",
    "3. декодируем предложение, используя текущий и предложенный шифры\n",
    "4. считаем логарифмы правдоподобия, основанные на статистике биграмм, предварительно посчитанных на большом текстовом корпусе\n",
    "5. если предложенный шифр лучше, чем текущий, принимаем его за новый текущий\n",
    "6. повторяем шаги 2-5 до сходимости"
   ]
  },
  {
   "cell_type": "code",
   "execution_count": 22,
   "id": "94e8cf4a",
   "metadata": {},
   "outputs": [],
   "source": [
    "def get_cipher(alphabet=alphabet, new_alphabet=alphabet):\n",
    "    new_alphabet = random.sample(list(new_alphabet), len(new_alphabet))\n",
    "    cipher_dict = {char:new_char for char, new_char in zip_longest(alphabet, new_alphabet, fillvalue='')}\n",
    "    return dict_to_ordered_sorted(cipher_dict)\n",
    "\n",
    "def encrypt(text, cipher):\n",
    "    return ''.join([cipher[char] for char in text])\n",
    "\n",
    "def decrypt(ciphered_text, cipher):\n",
    "    cipher_decrypt = {v: k for k, v in cipher.items()}\n",
    "    return ''.join([cipher_decrypt[char] for char in ciphered_text])"
   ]
  },
  {
   "cell_type": "code",
   "execution_count": 23,
   "id": "7b8d9204",
   "metadata": {},
   "outputs": [],
   "source": [
    "def text_to_bigram(text):\n",
    "    return [text[i]+text[j] for i, j in zip(range(len(text)-1), range(1, len(text)))]"
   ]
  },
  {
   "cell_type": "code",
   "execution_count": 24,
   "id": "15148308",
   "metadata": {},
   "outputs": [],
   "source": [
    "def text_to_n_gram(text, n_gram=1):\n",
    "    return [text[i:i+n_gram] for i in range(len(text) - (n_gram - 1))]"
   ]
  },
  {
   "cell_type": "code",
   "execution_count": 25,
   "id": "2a96e93a",
   "metadata": {},
   "outputs": [],
   "source": [
    "def calculate_n_gram_frequency(text_n_gram):\n",
    "    n_gram_frequency = Counter(text_n_gram)\n",
    "    total_count = sum(n_gram_frequency.values())\n",
    "    \n",
    "    for key in n_gram_frequency:\n",
    "        n_gram_frequency[key] /= total_count\n",
    "        \n",
    "    return n_gram_frequency"
   ]
  },
  {
   "cell_type": "code",
   "execution_count": 26,
   "id": "f0a56b0a",
   "metadata": {},
   "outputs": [],
   "source": [
    "def n_gram_prob(n_gram, n_gram_frequency, text_n_gram):\n",
    "    prob = n_gram_frequency.get(n_gram)\n",
    "\n",
    "    if not prob:\n",
    "        return 1 / len(text_n_gram)\n",
    "    \n",
    "    return prob"
   ]
  },
  {
   "cell_type": "code",
   "execution_count": 27,
   "id": "5ba1b759",
   "metadata": {},
   "outputs": [],
   "source": [
    "def log_likelihood(text, bigram_frequency, text_bigrams, n_gram=2):\n",
    "    text_bigram = text_to_n_gram(text, n_gram)\n",
    "    log_probs = [np.log(n_gram_prob(bigram, bigram_frequency, text_bigrams)) for bigram in text_bigram]\n",
    "    return sum(log_probs)"
   ]
  },
  {
   "cell_type": "code",
   "execution_count": 28,
   "id": "8b972cc7",
   "metadata": {},
   "outputs": [],
   "source": [
    "def swap(x):\n",
    "    i, j = random.sample(list(x.keys()), k=2)\n",
    "    x[i], x[j] = x[j], x[i]\n",
    "\n",
    "    return x"
   ]
  },
  {
   "cell_type": "code",
   "execution_count": 29,
   "id": "75521108",
   "metadata": {},
   "outputs": [],
   "source": [
    "def accept_proposed(log_likelihood_proposed, log_likelihood_current):\n",
    "    if log_likelihood_proposed > log_likelihood_current:\n",
    "        return True\n",
    "    return np.random.rand() < np.exp(log_likelihood_proposed - log_likelihood_current)"
   ]
  },
  {
   "cell_type": "code",
   "execution_count": 30,
   "id": "78d61ac9",
   "metadata": {},
   "outputs": [],
   "source": [
    "def mcmc_decrypt(encrypted_text, bigram_frequency, text_bigrams, \n",
    "                 iterations = 5000, alphabet=alphabet, new_alphabet=alphabet, n_gram=2):\n",
    "    current_cipher = get_cipher(alphabet, new_alphabet)\n",
    "    \n",
    "    for i in tqdm(range(iterations)):\n",
    "        proposed_cipher = swap(copy.deepcopy(current_cipher))\n",
    "\n",
    "        decrypted_text = decrypt(encrypted_text, current_cipher)\n",
    "        decrypted_text_proposed = decrypt(encrypted_text, proposed_cipher)\n",
    "\n",
    "        log_likelihood_proposed = log_likelihood(decrypted_text_proposed, bigram_frequency, text_bigrams, n_gram)\n",
    "        log_likelihood_current = log_likelihood(decrypted_text, bigram_frequency, text_bigrams, n_gram)\n",
    "\n",
    "        if accept_proposed(log_likelihood_proposed, log_likelihood_current):\n",
    "            current_cipher = proposed_cipher\n",
    "            \n",
    "    return decrypted_text"
   ]
  },
  {
   "cell_type": "code",
   "execution_count": 62,
   "id": "c5410232",
   "metadata": {},
   "outputs": [],
   "source": [
    "def encrypt_decrypt(text, bigram_frequency, text_bigram,\n",
    "                    encrypted=False, iterations=5000,\n",
    "                    alphabet=alphabet, new_alphabet=alphabet,\n",
    "                    n_gram=2, epochs=3):\n",
    "    original_text = text\n",
    "    \n",
    "    if not encrypted:\n",
    "        cipher = get_cipher()\n",
    "        text = encrypt(text, cipher)\n",
    "        \n",
    "    decrypted_texts = []\n",
    "    \n",
    "    for epoch in range(epochs):\n",
    "        decrypted_text = mcmc_decrypt(text, bigram_frequency,\n",
    "                                      text_bigram, iterations=iterations,\n",
    "                                      alphabet=alphabet, new_alphabet=new_alphabet, n_gram=n_gram)\n",
    "        if not encrypted:\n",
    "            accuracy = decryption_accuracy(original_text, decrypted_text)\n",
    "            decrypted_texts.append((decrypted_text, accuracy))\n",
    "            \n",
    "        else:\n",
    "            decryption_likelihood = log_likelihood(decrypted_text, bigram_frequency, text_bigram, n_gram)\n",
    "            decrypted_texts.append((decrypted_text, decryption_likelihood))\n",
    "            \n",
    "    return max(decrypted_texts, key=itemgetter(1))"
   ]
  },
  {
   "cell_type": "code",
   "execution_count": 32,
   "id": "de6b62ae",
   "metadata": {},
   "outputs": [],
   "source": [
    "text_rus_bigram = text_to_n_gram(text_rus, n_gram=2)"
   ]
  },
  {
   "cell_type": "code",
   "execution_count": 33,
   "id": "5f0d0a50",
   "metadata": {},
   "outputs": [],
   "source": [
    "bigram_frequency = calculate_n_gram_frequency(text_rus_bigram)"
   ]
  },
  {
   "cell_type": "code",
   "execution_count": null,
   "id": "5d7998ce",
   "metadata": {},
   "outputs": [],
   "source": []
  },
  {
   "cell_type": "code",
   "execution_count": 39,
   "id": "9247c287",
   "metadata": {},
   "outputs": [
    {
     "name": "stderr",
     "output_type": "stream",
     "text": [
      "100%|████████████████████████████████████████████████████████| 20000/20000 [01:09<00:00, 288.20it/s]\n",
      "100%|████████████████████████████████████████████████████████| 20000/20000 [01:09<00:00, 289.08it/s]\n",
      "100%|████████████████████████████████████████████████████████| 20000/20000 [01:08<00:00, 291.03it/s]\n",
      "100%|████████████████████████████████████████████████████████| 20000/20000 [01:09<00:00, 289.55it/s]\n",
      "100%|████████████████████████████████████████████████████████| 20000/20000 [01:08<00:00, 290.48it/s]\n"
     ]
    }
   ],
   "source": [
    "decrypted_text = encrypt_decrypt(test_string, bigram_frequency, text_rus_bigram, iterations=20000, epochs=5)"
   ]
  },
  {
   "cell_type": "code",
   "execution_count": 40,
   "id": "0192ca7d",
   "metadata": {},
   "outputs": [
    {
     "name": "stdout",
     "output_type": "stream",
     "text": [
      "свойство или приспособление организма потеншиально имеюфее акаптивную приспособительную шенность теория преакапташии позволяет описать механизм смены чундший органов в прошессе эволюшии и разрецить па\n",
      "\n",
      "Correctly decrypted percentage: 0.914535666218035\n"
     ]
    }
   ],
   "source": [
    "print(decrypted_text[0][:200])\n",
    "print()\n",
    "print(f'Correctly decrypted percentage: {decrypted_text[1]}')"
   ]
  },
  {
   "cell_type": "code",
   "execution_count": 65,
   "id": "1dbc0515",
   "metadata": {},
   "outputs": [
    {
     "name": "stderr",
     "output_type": "stream",
     "text": [
      "100%|███████████████████████████████████████████████████████████| 7000/7000 [02:39<00:00, 43.95it/s]\n",
      "100%|███████████████████████████████████████████████████████████| 7000/7000 [02:40<00:00, 43.71it/s]\n",
      "100%|███████████████████████████████████████████████████████████| 7000/7000 [02:38<00:00, 44.08it/s]\n"
     ]
    }
   ],
   "source": [
    "decrypted_text = encrypt_decrypt(test_text[:10000], bigram_frequency, text_rus_bigram, iterations=7000, epochs=3)"
   ]
  },
  {
   "cell_type": "code",
   "execution_count": 66,
   "id": "ac6a4299",
   "metadata": {},
   "outputs": [
    {
     "name": "stdout",
     "output_type": "stream",
     "text": [
      "анна каренина один из самых знаменитых романов льва толстого начинается ставшей афоризмом фразой все счастливые семьи похожи друг на друга каждая несчастливая семья несчастлива посвоему это книга о ве\n",
      "\n",
      "Correctly decrypted percentage: 1.0\n"
     ]
    }
   ],
   "source": [
    "print(decrypted_text[0][:200])\n",
    "print()\n",
    "print(f'Correctly decrypted percentage: {decrypted_text[1]}')"
   ]
  },
  {
   "cell_type": "markdown",
   "id": "f5bcf42f",
   "metadata": {},
   "source": [
    "#### Качество расшифровки даже на небольшом тестовом тексте заметно улучшилось. Однако не всегда качественная расшифровка получается с первого раза"
   ]
  },
  {
   "cell_type": "markdown",
   "id": "49f16f2b",
   "metadata": {},
   "source": [
    "## Part 4"
   ]
  },
  {
   "cell_type": "code",
   "execution_count": 41,
   "id": "f2ca6520",
   "metadata": {},
   "outputs": [],
   "source": [
    "encrypted_text = 'დჳჵჂႨშႼႨშჂხჂჲდႨსႹႭჾႣჵისႼჰႨჂჵჂႨႲႹႧჲჂႨსႹႭჾႣჵისႼჰႨჲდႩჳჲႨჇႨႠჲႹქႹႨჳႹႹჱჶდსჂႽႨႩႹჲႹႭႼჰႨჵდქႩႹႨႲႭႹႧჂჲႣჲიႨჳႩႹႭდდႨშჳდქႹႨშႼႨშჳდႨჳხდჵႣჵჂႨႲႭႣშჂჵისႹႨჂႨႲႹჵჇႧჂჲდႨჾႣႩჳჂჾႣჵისႼჰႨჱႣჵჵႨეႣႨႲႹჳჵდხსდდႨႧდჲშდႭჲႹდႨეႣხႣსჂდႨႩჇႭჳႣႨႾႹჲႽႨႩႹსდႧსႹႨႽႨსჂႧდქႹႨსდႨႹჱდჶႣნ'"
   ]
  },
  {
   "cell_type": "code",
   "execution_count": 42,
   "id": "b112da74",
   "metadata": {},
   "outputs": [],
   "source": [
    "right_decryption = 'eсли вы видите нормальный или почти нормальный текст у этого сообщения который легко прочитать скорее всего вы всё сделали правильно и получите максимальный балл за последнее четвертое задание курса хотя конечно я ничего не обещаю'"
   ]
  },
  {
   "cell_type": "code",
   "execution_count": 43,
   "id": "5735cca8",
   "metadata": {},
   "outputs": [],
   "source": [
    "new_alphabet = set(encrypted_text)"
   ]
  },
  {
   "cell_type": "code",
   "execution_count": 109,
   "id": "4cafd525",
   "metadata": {},
   "outputs": [
    {
     "name": "stderr",
     "output_type": "stream",
     "text": [
      "100%|█████████████████████████████████████████████████████| 100000/100000 [00:58<00:00, 1698.67it/s]\n",
      "100%|█████████████████████████████████████████████████████| 100000/100000 [00:59<00:00, 1690.67it/s]\n",
      "100%|█████████████████████████████████████████████████████| 100000/100000 [00:58<00:00, 1697.00it/s]\n",
      "100%|█████████████████████████████████████████████████████| 100000/100000 [00:58<00:00, 1697.38it/s]\n",
      "100%|█████████████████████████████████████████████████████| 100000/100000 [00:58<00:00, 1699.43it/s]\n"
     ]
    }
   ],
   "source": [
    "decrypted_text = encrypt_decrypt(encrypted_text, bigram_frequency, text_rus_bigram,\n",
    "                                 iterations = 100000, alphabet=alphabet, new_alphabet=new_alphabet,\n",
    "                                 encrypted=True, epochs=5)"
   ]
  },
  {
   "cell_type": "code",
   "execution_count": 112,
   "id": "ab6017b2",
   "metadata": {},
   "outputs": [
    {
     "name": "stdout",
     "output_type": "stream",
     "text": [
      "если вы вимите нордальный или почти нордальный текст у этого сообжения который легко прочитать скорее всего вы все смелали правильно и получите даксидальный балл за послемнее четвертое замание курса хотя конечно я ничего не обежаш\n",
      "\n"
     ]
    },
    {
     "data": {
      "text/plain": [
       "'Correctly decrypted percentage: 0.9434782608695652'"
      ]
     },
     "execution_count": 112,
     "metadata": {},
     "output_type": "execute_result"
    }
   ],
   "source": [
    "print(decrypted_text[0])\n",
    "print()\n",
    "f'Correctly decrypted percentage: {decryption_accuracy(right_decryption, decrypted_text[0])}'"
   ]
  },
  {
   "cell_type": "markdown",
   "id": "96af73bc",
   "metadata": {},
   "source": [
    "## Part 6"
   ]
  },
  {
   "cell_type": "markdown",
   "id": "a5f3a030",
   "metadata": {},
   "source": [
    "Прямым применением данной модели является вскрытие простейших криптографических шифров, основанных на сдвиге букв или на их переставновке. \n",
    "\n",
    "Мне еще пришло в голову, что такая модель может применяться в генетике. Обучая перестановки генов, целевое распределение будет приближаться к распределению генов, которые, например, влияют на появление какого-то заболевания. Но насколько это адекватное решение, я не знаю.\n",
    "\n",
    "Также такую модель можно использовать для unsupervised text translation"
   ]
  }
 ],
 "metadata": {
  "kernelspec": {
   "display_name": "Python 3 (ipykernel)",
   "language": "python",
   "name": "python3"
  },
  "language_info": {
   "codemirror_mode": {
    "name": "ipython",
    "version": 3
   },
   "file_extension": ".py",
   "mimetype": "text/x-python",
   "name": "python",
   "nbconvert_exporter": "python",
   "pygments_lexer": "ipython3",
   "version": "3.9.12"
  }
 },
 "nbformat": 4,
 "nbformat_minor": 5
}
