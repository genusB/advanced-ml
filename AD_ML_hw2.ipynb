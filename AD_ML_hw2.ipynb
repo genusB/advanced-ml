{
 "cells": [
  {
   "cell_type": "markdown",
   "id": "ab0a96a8",
   "metadata": {},
   "source": [
    "## part 1 - 3"
   ]
  },
  {
   "cell_type": "code",
   "execution_count": 1,
   "id": "319b751c",
   "metadata": {},
   "outputs": [],
   "source": [
    "import pickle\n",
    "import pandas as pd\n",
    "import numpy as np\n",
    "import matplotlib.pyplot as plt\n",
    "import seaborn as sns\n",
    "import re\n",
    "\n",
    "import os\n",
    "from collections import defaultdict\n",
    "\n",
    "from sklearn.linear_model import LogisticRegression\n",
    "from sklearn.preprocessing import StandardScaler\n",
    "\n",
    "from scipy.sparse import coo_array\n",
    "from scipy import stats\n",
    "from copy import deepcopy"
   ]
  },
  {
   "cell_type": "code",
   "execution_count": 2,
   "id": "9ab6fbf8",
   "metadata": {},
   "outputs": [],
   "source": [
    "players = pickle.load(open('./chgk/players.pkl', 'rb'))"
   ]
  },
  {
   "cell_type": "code",
   "execution_count": 3,
   "id": "24562438",
   "metadata": {},
   "outputs": [],
   "source": [
    "tournaments = pickle.load(open('./chgk/tournaments.pkl', 'rb'))"
   ]
  },
  {
   "cell_type": "code",
   "execution_count": 4,
   "id": "83de6cc0",
   "metadata": {},
   "outputs": [],
   "source": [
    "results = pickle.load(open('./chgk/results.pkl', 'rb'))"
   ]
  },
  {
   "cell_type": "code",
   "execution_count": 5,
   "id": "4ac442ed",
   "metadata": {},
   "outputs": [],
   "source": [
    "# фильтрация данных по году и наличию повопросных результатов\n",
    "\n",
    "train_tournaments = []\n",
    "test_tournaments = []\n",
    "\n",
    "tournament_teams = defaultdict(list)\n",
    "\n",
    "for i, tournament in tournaments.items():\n",
    "    year = tournament['dateStart'][:4]\n",
    "    if year in ['2019', '2020']:\n",
    "        questionQty = sum(tournament['questionQty'].values())\n",
    "        teams = [team for team in results[i] if 'mask' in team \n",
    "                 and team['mask'] is not None \n",
    "                 and len(team['mask']) == questionQty\n",
    "                 and re.match(\"[0-9]+$\", team['mask'])]\n",
    "        \n",
    "        if teams:\n",
    "            tournament_teams[i] = teams\n",
    "            \n",
    "            if year == '2019':\n",
    "                train_tournaments.append(i)\n",
    "            else:\n",
    "                test_tournaments.append(i)"
   ]
  },
  {
   "cell_type": "code",
   "execution_count": 58,
   "id": "329d377b",
   "metadata": {},
   "outputs": [],
   "source": [
    "# составление тренировочного сета игроков\n",
    "\n",
    "players_train = set()\n",
    "\n",
    "for i in train_tournaments:\n",
    "    for team in tournament_teams[i]:\n",
    "        for player in team['teamMembers']:\n",
    "            players_train.add(player['player']['id'])"
   ]
  },
  {
   "cell_type": "code",
   "execution_count": 7,
   "id": "5f36e853",
   "metadata": {},
   "outputs": [],
   "source": [
    "player_to_idx = {player: idx for idx, player in enumerate(players_train)}"
   ]
  },
  {
   "cell_type": "code",
   "execution_count": null,
   "id": "a3343ad4",
   "metadata": {},
   "outputs": [],
   "source": []
  },
  {
   "cell_type": "code",
   "execution_count": 86,
   "id": "074226c1",
   "metadata": {},
   "outputs": [],
   "source": [
    "players_encoded = []\n",
    "questions_encoded = []\n",
    "answers = []\n",
    "players_rating = {}\n",
    "touraments_questions = {}\n",
    "\n",
    "question_counter = 0\n",
    "\n",
    "for i in train_tournaments:\n",
    "    start = question_counter + len(players_train)\n",
    "    end = start + len(tournament_teams[i][0]['mask'])\n",
    "    touraments_questions[i] = [i for i in range(start, end)]\n",
    "    \n",
    "    for team in tournament_teams[i]:\n",
    "        team_answers = list(map(int, team['mask']))\n",
    "        \n",
    "        for j, answer in enumerate(team_answers):\n",
    "            \n",
    "            for player in team['teamMembers']:\n",
    "                players_encoded.append(player_to_idx[player['player']['id']])\n",
    "                players_rating[player['player']['id']] = player['rating']\n",
    "                questions_encoded.append(question_counter + j + len(players_train))\n",
    "                answers.append(answer)\n",
    "                \n",
    "    question_counter += len(team_answers)"
   ]
  },
  {
   "cell_type": "code",
   "execution_count": 87,
   "id": "76c703e3",
   "metadata": {},
   "outputs": [],
   "source": [
    "data_players = [1] * len(players_encoded)\n",
    "row_players = [i for i in range(len(players_encoded))]\n",
    "column_players = players_encoded\n",
    "shape_players = len(row_players), len(players_train) + question_counter\n",
    "\n",
    "data_questions = [1] * len(questions_encoded)\n",
    "row_questions = [i for i in range(len(questions_encoded))]\n",
    "column_questions = questions_encoded\n",
    "shape_questions = len(row_questions), len(players_train) + question_counter"
   ]
  },
  {
   "cell_type": "code",
   "execution_count": 88,
   "id": "27ea93cd",
   "metadata": {},
   "outputs": [],
   "source": [
    "# матрица, в которой строки - игроки, столбцы - игроки и вопросы. \n",
    "# При обучении выучивается коэффициент как каждого игрока, так и каждого вопроса\n",
    "\n",
    "X_players = coo_array((data_players, (row_players, column_players)), shape=shape_players)\n",
    "X_questions = coo_array((data_questions, (row_questions, column_questions)), shape=shape_questions)\n",
    "X = X_players + X_questions\n",
    "\n",
    "del X_players, X_questions"
   ]
  },
  {
   "cell_type": "code",
   "execution_count": 89,
   "id": "36eec210",
   "metadata": {},
   "outputs": [],
   "source": [
    "y = np.array(answers)"
   ]
  },
  {
   "cell_type": "code",
   "execution_count": 90,
   "id": "ebb17b0e",
   "metadata": {},
   "outputs": [
    {
     "data": {
      "text/html": [
       "<style>#sk-container-id-3 {color: black;background-color: white;}#sk-container-id-3 pre{padding: 0;}#sk-container-id-3 div.sk-toggleable {background-color: white;}#sk-container-id-3 label.sk-toggleable__label {cursor: pointer;display: block;width: 100%;margin-bottom: 0;padding: 0.3em;box-sizing: border-box;text-align: center;}#sk-container-id-3 label.sk-toggleable__label-arrow:before {content: \"▸\";float: left;margin-right: 0.25em;color: #696969;}#sk-container-id-3 label.sk-toggleable__label-arrow:hover:before {color: black;}#sk-container-id-3 div.sk-estimator:hover label.sk-toggleable__label-arrow:before {color: black;}#sk-container-id-3 div.sk-toggleable__content {max-height: 0;max-width: 0;overflow: hidden;text-align: left;background-color: #f0f8ff;}#sk-container-id-3 div.sk-toggleable__content pre {margin: 0.2em;color: black;border-radius: 0.25em;background-color: #f0f8ff;}#sk-container-id-3 input.sk-toggleable__control:checked~div.sk-toggleable__content {max-height: 200px;max-width: 100%;overflow: auto;}#sk-container-id-3 input.sk-toggleable__control:checked~label.sk-toggleable__label-arrow:before {content: \"▾\";}#sk-container-id-3 div.sk-estimator input.sk-toggleable__control:checked~label.sk-toggleable__label {background-color: #d4ebff;}#sk-container-id-3 div.sk-label input.sk-toggleable__control:checked~label.sk-toggleable__label {background-color: #d4ebff;}#sk-container-id-3 input.sk-hidden--visually {border: 0;clip: rect(1px 1px 1px 1px);clip: rect(1px, 1px, 1px, 1px);height: 1px;margin: -1px;overflow: hidden;padding: 0;position: absolute;width: 1px;}#sk-container-id-3 div.sk-estimator {font-family: monospace;background-color: #f0f8ff;border: 1px dotted black;border-radius: 0.25em;box-sizing: border-box;margin-bottom: 0.5em;}#sk-container-id-3 div.sk-estimator:hover {background-color: #d4ebff;}#sk-container-id-3 div.sk-parallel-item::after {content: \"\";width: 100%;border-bottom: 1px solid gray;flex-grow: 1;}#sk-container-id-3 div.sk-label:hover label.sk-toggleable__label {background-color: #d4ebff;}#sk-container-id-3 div.sk-serial::before {content: \"\";position: absolute;border-left: 1px solid gray;box-sizing: border-box;top: 0;bottom: 0;left: 50%;z-index: 0;}#sk-container-id-3 div.sk-serial {display: flex;flex-direction: column;align-items: center;background-color: white;padding-right: 0.2em;padding-left: 0.2em;position: relative;}#sk-container-id-3 div.sk-item {position: relative;z-index: 1;}#sk-container-id-3 div.sk-parallel {display: flex;align-items: stretch;justify-content: center;background-color: white;position: relative;}#sk-container-id-3 div.sk-item::before, #sk-container-id-3 div.sk-parallel-item::before {content: \"\";position: absolute;border-left: 1px solid gray;box-sizing: border-box;top: 0;bottom: 0;left: 50%;z-index: -1;}#sk-container-id-3 div.sk-parallel-item {display: flex;flex-direction: column;z-index: 1;position: relative;background-color: white;}#sk-container-id-3 div.sk-parallel-item:first-child::after {align-self: flex-end;width: 50%;}#sk-container-id-3 div.sk-parallel-item:last-child::after {align-self: flex-start;width: 50%;}#sk-container-id-3 div.sk-parallel-item:only-child::after {width: 0;}#sk-container-id-3 div.sk-dashed-wrapped {border: 1px dashed gray;margin: 0 0.4em 0.5em 0.4em;box-sizing: border-box;padding-bottom: 0.4em;background-color: white;}#sk-container-id-3 div.sk-label label {font-family: monospace;font-weight: bold;display: inline-block;line-height: 1.2em;}#sk-container-id-3 div.sk-label-container {text-align: center;}#sk-container-id-3 div.sk-container {/* jupyter's `normalize.less` sets `[hidden] { display: none; }` but bootstrap.min.css set `[hidden] { display: none !important; }` so we also need the `!important` here to be able to override the default hidden behavior on the sphinx rendered scikit-learn.org. See: https://github.com/scikit-learn/scikit-learn/issues/21755 */display: inline-block !important;position: relative;}#sk-container-id-3 div.sk-text-repr-fallback {display: none;}</style><div id=\"sk-container-id-3\" class=\"sk-top-container\"><div class=\"sk-text-repr-fallback\"><pre>LogisticRegression(n_jobs=-1, solver=&#x27;saga&#x27;)</pre><b>In a Jupyter environment, please rerun this cell to show the HTML representation or trust the notebook. <br />On GitHub, the HTML representation is unable to render, please try loading this page with nbviewer.org.</b></div><div class=\"sk-container\" hidden><div class=\"sk-item\"><div class=\"sk-estimator sk-toggleable\"><input class=\"sk-toggleable__control sk-hidden--visually\" id=\"sk-estimator-id-3\" type=\"checkbox\" checked><label for=\"sk-estimator-id-3\" class=\"sk-toggleable__label sk-toggleable__label-arrow\">LogisticRegression</label><div class=\"sk-toggleable__content\"><pre>LogisticRegression(n_jobs=-1, solver=&#x27;saga&#x27;)</pre></div></div></div></div></div>"
      ],
      "text/plain": [
       "LogisticRegression(n_jobs=-1, solver='saga')"
      ]
     },
     "execution_count": 90,
     "metadata": {},
     "output_type": "execute_result"
    }
   ],
   "source": [
    "model = LogisticRegression(solver='saga', n_jobs=-1)\n",
    "model.fit(X, y)"
   ]
  },
  {
   "cell_type": "code",
   "execution_count": 13,
   "id": "01cd242b",
   "metadata": {},
   "outputs": [],
   "source": [
    "players_ranks = model.coef_[:len(players_train)][0]"
   ]
  },
  {
   "cell_type": "code",
   "execution_count": 14,
   "id": "d7231659",
   "metadata": {},
   "outputs": [],
   "source": [
    "players_ranking_pred = []\n",
    "\n",
    "for player in players_train:\n",
    "    players_ranking_pred.append({\n",
    "        'player_id': player,\n",
    "        'rank_pred': players_ranks[player_to_idx[player]],\n",
    "        'rank_true': players_rating[player],\n",
    "        'name': players[player]['name'],\n",
    "        'patronymic': players[player]['patronymic'],\n",
    "        'surname': players[player]['surname']\n",
    "    })"
   ]
  },
  {
   "cell_type": "code",
   "execution_count": 60,
   "id": "bba32975",
   "metadata": {},
   "outputs": [],
   "source": [
    "players_ranking_pred_df = pd.DataFrame(players_ranking_pred)"
   ]
  },
  {
   "cell_type": "code",
   "execution_count": 16,
   "id": "5be64592",
   "metadata": {},
   "outputs": [],
   "source": [
    "players_ranking_pred_df = players_ranking_pred_df.sort_values(by='rank_true', ascending=False)"
   ]
  },
  {
   "cell_type": "code",
   "execution_count": 17,
   "id": "29417952",
   "metadata": {},
   "outputs": [],
   "source": [
    "players_ranking_pred_df.loc[:, 'rank_true'] = np.arange(1, len(players_ranking_pred_df) + 1)"
   ]
  },
  {
   "cell_type": "code",
   "execution_count": 18,
   "id": "aa88357f",
   "metadata": {},
   "outputs": [],
   "source": [
    "players_ranking_pred_df = players_ranking_pred_df.sort_values(by='rank_pred', ascending=False)"
   ]
  },
  {
   "cell_type": "code",
   "execution_count": 19,
   "id": "436fa718",
   "metadata": {},
   "outputs": [
    {
     "name": "stderr",
     "output_type": "stream",
     "text": [
      "/var/folders/sv/p9rs11c92tb3nwjdsqq8ggxw0000gn/T/ipykernel_74366/1504385931.py:1: DeprecationWarning: In a future version, `df.iloc[:, i] = newvals` will attempt to set the values inplace instead of always setting a new array. To retain the old behavior, use either `df[df.columns[i]] = newvals` or, if columns are non-unique, `df.isetitem(i, newvals)`\n",
      "  players_ranking_pred_df.loc[:, 'rank_pred'] = np.arange(1, len(players_ranking_pred_df) + 1)\n"
     ]
    }
   ],
   "source": [
    "players_ranking_pred_df.loc[:, 'rank_pred'] = np.arange(1, len(players_ranking_pred_df) + 1)"
   ]
  },
  {
   "cell_type": "code",
   "execution_count": 20,
   "id": "5e9bc59a",
   "metadata": {},
   "outputs": [
    {
     "data": {
      "text/html": [
       "<div>\n",
       "<style scoped>\n",
       "    .dataframe tbody tr th:only-of-type {\n",
       "        vertical-align: middle;\n",
       "    }\n",
       "\n",
       "    .dataframe tbody tr th {\n",
       "        vertical-align: top;\n",
       "    }\n",
       "\n",
       "    .dataframe thead th {\n",
       "        text-align: right;\n",
       "    }\n",
       "</style>\n",
       "<table border=\"1\" class=\"dataframe\">\n",
       "  <thead>\n",
       "    <tr style=\"text-align: right;\">\n",
       "      <th></th>\n",
       "      <th>player_id</th>\n",
       "      <th>rank_pred</th>\n",
       "      <th>rank_true</th>\n",
       "      <th>name</th>\n",
       "      <th>patronymic</th>\n",
       "      <th>surname</th>\n",
       "    </tr>\n",
       "  </thead>\n",
       "  <tbody>\n",
       "    <tr>\n",
       "      <th>9361</th>\n",
       "      <td>27403</td>\n",
       "      <td>1</td>\n",
       "      <td>3</td>\n",
       "      <td>Максим</td>\n",
       "      <td>Михайлович</td>\n",
       "      <td>Руссо</td>\n",
       "    </tr>\n",
       "    <tr>\n",
       "      <th>1409</th>\n",
       "      <td>4270</td>\n",
       "      <td>2</td>\n",
       "      <td>6</td>\n",
       "      <td>Александра</td>\n",
       "      <td>Владимировна</td>\n",
       "      <td>Брутер</td>\n",
       "    </tr>\n",
       "    <tr>\n",
       "      <th>9874</th>\n",
       "      <td>28751</td>\n",
       "      <td>3</td>\n",
       "      <td>5</td>\n",
       "      <td>Иван</td>\n",
       "      <td>Николаевич</td>\n",
       "      <td>Семушин</td>\n",
       "    </tr>\n",
       "    <tr>\n",
       "      <th>9541</th>\n",
       "      <td>27822</td>\n",
       "      <td>4</td>\n",
       "      <td>2</td>\n",
       "      <td>Михаил</td>\n",
       "      <td>Владимирович</td>\n",
       "      <td>Савченков</td>\n",
       "    </tr>\n",
       "    <tr>\n",
       "      <th>10380</th>\n",
       "      <td>30270</td>\n",
       "      <td>5</td>\n",
       "      <td>4</td>\n",
       "      <td>Сергей</td>\n",
       "      <td>Леонидович</td>\n",
       "      <td>Спешков</td>\n",
       "    </tr>\n",
       "    <tr>\n",
       "      <th>10340</th>\n",
       "      <td>30152</td>\n",
       "      <td>6</td>\n",
       "      <td>1</td>\n",
       "      <td>Артём</td>\n",
       "      <td>Сергеевич</td>\n",
       "      <td>Сорожкин</td>\n",
       "    </tr>\n",
       "    <tr>\n",
       "      <th>6000</th>\n",
       "      <td>18036</td>\n",
       "      <td>7</td>\n",
       "      <td>28</td>\n",
       "      <td>Михаил</td>\n",
       "      <td>Ильич</td>\n",
       "      <td>Левандовский</td>\n",
       "    </tr>\n",
       "    <tr>\n",
       "      <th>6917</th>\n",
       "      <td>20691</td>\n",
       "      <td>8</td>\n",
       "      <td>66</td>\n",
       "      <td>Станислав</td>\n",
       "      <td>Григорьевич</td>\n",
       "      <td>Мереминский</td>\n",
       "    </tr>\n",
       "    <tr>\n",
       "      <th>49576</th>\n",
       "      <td>87637</td>\n",
       "      <td>9</td>\n",
       "      <td>183</td>\n",
       "      <td>Антон</td>\n",
       "      <td>Владимирович</td>\n",
       "      <td>Саксонов</td>\n",
       "    </tr>\n",
       "    <tr>\n",
       "      <th>7681</th>\n",
       "      <td>22799</td>\n",
       "      <td>10</td>\n",
       "      <td>17</td>\n",
       "      <td>Сергей</td>\n",
       "      <td>Игоревич</td>\n",
       "      <td>Николенко</td>\n",
       "    </tr>\n",
       "  </tbody>\n",
       "</table>\n",
       "</div>"
      ],
      "text/plain": [
       "       player_id  rank_pred  rank_true        name    patronymic       surname\n",
       "9361       27403          1          3      Максим    Михайлович         Руссо\n",
       "1409        4270          2          6  Александра  Владимировна        Брутер\n",
       "9874       28751          3          5        Иван    Николаевич       Семушин\n",
       "9541       27822          4          2      Михаил  Владимирович     Савченков\n",
       "10380      30270          5          4      Сергей    Леонидович       Спешков\n",
       "10340      30152          6          1       Артём     Сергеевич      Сорожкин\n",
       "6000       18036          7         28      Михаил         Ильич  Левандовский\n",
       "6917       20691          8         66   Станислав   Григорьевич   Мереминский\n",
       "49576      87637          9        183       Антон  Владимирович      Саксонов\n",
       "7681       22799         10         17      Сергей      Игоревич     Николенко"
      ]
     },
     "execution_count": 20,
     "metadata": {},
     "output_type": "execute_result"
    }
   ],
   "source": [
    "players_ranking_pred_df.head(10)"
   ]
  },
  {
   "cell_type": "code",
   "execution_count": 61,
   "id": "bb1e620a",
   "metadata": {},
   "outputs": [],
   "source": [
    "def predict_ranking(model, team):\n",
    "    players_encoded = [player_to_idx[player['player']['id']] for player in team['teamMembers']]\n",
    "\n",
    "    data = [1] * len(players_encoded)\n",
    "    rows = [i for i in range(len(players_encoded))]\n",
    "    columns = players_encoded\n",
    "    shape = len(players_encoded), len(model.coef_[0])\n",
    "\n",
    "    X = coo_array((data, (rows, columns)), shape=shape)\n",
    "\n",
    "    #  вероятность ответить правильно: 1 - вероятность того, что все игроки ответили неверно           \n",
    "\n",
    "    return 1 - model.predict_proba(X)[:, 0].prod()"
   ]
  },
  {
   "cell_type": "code",
   "execution_count": 68,
   "id": "f2e8d642",
   "metadata": {},
   "outputs": [],
   "source": [
    "test_tournaments_rating = []\n",
    "test_tournaments_rating_pred = []\n",
    "\n",
    "for i in test_tournaments:\n",
    "    tournament_rating = []\n",
    "    tournament_rating_pred = []\n",
    "    \n",
    "    for team in tournament_teams[i]:\n",
    "        team_filtered = deepcopy(team)\n",
    "        team_filtered['teamMembers'] = []\n",
    "        \n",
    "        for player in team['teamMembers']:\n",
    "            if player['player']['id'] in players_train:\n",
    "                team_filtered['teamMembers'].append(player)\n",
    "                \n",
    "        if team_filtered['teamMembers']:\n",
    "            rating_true = sum(list(map(int, team_filtered['mask']))) \n",
    "            rating_pred = predict_ranking(model, team_filtered)\n",
    "            \n",
    "            tournament_rating.append(rating_true)\n",
    "            tournament_rating_pred.append(rating_pred)\n",
    "            \n",
    "    if tournament_rating:\n",
    "        test_tournaments_rating.append(tournament_rating)\n",
    "        test_tournaments_rating_pred.append(tournament_rating_pred)"
   ]
  },
  {
   "cell_type": "code",
   "execution_count": 69,
   "id": "3070bf37",
   "metadata": {},
   "outputs": [],
   "source": [
    "def rank_correlation(test_tournaments_rating, test_tournaments_rating_pred):\n",
    "    spearman = [stats.spearmanr(true, pred).correlation for true, pred in zip(test_tournaments_rating, test_tournaments_rating_pred)]\n",
    "    kendall = [stats.kendalltau(true, pred).correlation for true, pred in zip(test_tournaments_rating, test_tournaments_rating_pred)]\n",
    "    return np.array(spearman).mean(), np.array(kendall).mean()"
   ]
  },
  {
   "cell_type": "code",
   "execution_count": 70,
   "id": "7f9ee8c9",
   "metadata": {},
   "outputs": [
    {
     "data": {
      "text/plain": [
       "(0.7920070096960519, 0.6353767154753027)"
      ]
     },
     "execution_count": 70,
     "metadata": {},
     "output_type": "execute_result"
    }
   ],
   "source": [
    "rank_correlation(test_tournaments_rating, test_tournaments_rating_pred)"
   ]
  },
  {
   "cell_type": "code",
   "execution_count": null,
   "id": "0be188cf",
   "metadata": {},
   "outputs": [],
   "source": []
  },
  {
   "cell_type": "markdown",
   "id": "aaa93d41",
   "metadata": {},
   "source": [
    "## part 5"
   ]
  },
  {
   "cell_type": "code",
   "execution_count": 96,
   "id": "5b055270",
   "metadata": {},
   "outputs": [],
   "source": [
    "questions_ranking = model.coef_[0]"
   ]
  },
  {
   "cell_type": "code",
   "execution_count": 97,
   "id": "95dd3300",
   "metadata": {},
   "outputs": [],
   "source": [
    "tournaments_ranks = {'name': [], 'score': []}\n",
    "\n",
    "for i in train_tournaments:\n",
    "    ranking = questions_ranking[touraments_questions[i]]\n",
    "    \n",
    "    tournaments_ranks['name'].append(tournaments[i]['name'])\n",
    "    tournaments_ranks['score'].append(ranking.sum() / len(ranking))"
   ]
  },
  {
   "cell_type": "code",
   "execution_count": 103,
   "id": "da6f28a5",
   "metadata": {},
   "outputs": [],
   "source": [
    "top_questions = pd.DataFrame(tournaments_ranks)"
   ]
  },
  {
   "cell_type": "code",
   "execution_count": 105,
   "id": "10cec2eb",
   "metadata": {},
   "outputs": [
    {
     "data": {
      "text/html": [
       "<div>\n",
       "<style scoped>\n",
       "    .dataframe tbody tr th:only-of-type {\n",
       "        vertical-align: middle;\n",
       "    }\n",
       "\n",
       "    .dataframe tbody tr th {\n",
       "        vertical-align: top;\n",
       "    }\n",
       "\n",
       "    .dataframe thead th {\n",
       "        text-align: right;\n",
       "    }\n",
       "</style>\n",
       "<table border=\"1\" class=\"dataframe\">\n",
       "  <thead>\n",
       "    <tr style=\"text-align: right;\">\n",
       "      <th></th>\n",
       "      <th>name</th>\n",
       "      <th>score</th>\n",
       "    </tr>\n",
       "  </thead>\n",
       "  <tbody>\n",
       "    <tr>\n",
       "      <th>603</th>\n",
       "      <td>Чемпионат Санкт-Петербурга. Первая лига</td>\n",
       "      <td>-4.437388</td>\n",
       "    </tr>\n",
       "    <tr>\n",
       "      <th>488</th>\n",
       "      <td>Угрюмый Ёрш</td>\n",
       "      <td>-2.303805</td>\n",
       "    </tr>\n",
       "    <tr>\n",
       "      <th>35</th>\n",
       "      <td>Первенство правого полушария</td>\n",
       "      <td>-2.076394</td>\n",
       "    </tr>\n",
       "    <tr>\n",
       "      <th>579</th>\n",
       "      <td>Воображаемый музей</td>\n",
       "      <td>-1.984692</td>\n",
       "    </tr>\n",
       "    <tr>\n",
       "      <th>254</th>\n",
       "      <td>Записки охотника</td>\n",
       "      <td>-1.802301</td>\n",
       "    </tr>\n",
       "    <tr>\n",
       "      <th>12</th>\n",
       "      <td>Кубок городов</td>\n",
       "      <td>-1.732424</td>\n",
       "    </tr>\n",
       "    <tr>\n",
       "      <th>22</th>\n",
       "      <td>Ускользающая сова</td>\n",
       "      <td>-1.693091</td>\n",
       "    </tr>\n",
       "    <tr>\n",
       "      <th>342</th>\n",
       "      <td>Знание – Сила VI</td>\n",
       "      <td>-1.682342</td>\n",
       "    </tr>\n",
       "    <tr>\n",
       "      <th>200</th>\n",
       "      <td>Чемпионат Минска. Лига А. Тур четвёртый</td>\n",
       "      <td>-1.567977</td>\n",
       "    </tr>\n",
       "    <tr>\n",
       "      <th>157</th>\n",
       "      <td>Чемпионат России</td>\n",
       "      <td>-1.567505</td>\n",
       "    </tr>\n",
       "    <tr>\n",
       "      <th>500</th>\n",
       "      <td>Чемпионат Мира. Этап 2 Группа С</td>\n",
       "      <td>-1.553119</td>\n",
       "    </tr>\n",
       "    <tr>\n",
       "      <th>367</th>\n",
       "      <td>All Cats Are Beautiful</td>\n",
       "      <td>-1.542283</td>\n",
       "    </tr>\n",
       "    <tr>\n",
       "      <th>499</th>\n",
       "      <td>Чемпионат Мира. Этап 2. Группа В</td>\n",
       "      <td>-1.533655</td>\n",
       "    </tr>\n",
       "    <tr>\n",
       "      <th>41</th>\n",
       "      <td>VERSUS: Коробейников vs. Матвеев</td>\n",
       "      <td>-1.524230</td>\n",
       "    </tr>\n",
       "    <tr>\n",
       "      <th>36</th>\n",
       "      <td>Антибинго</td>\n",
       "      <td>-1.495147</td>\n",
       "    </tr>\n",
       "  </tbody>\n",
       "</table>\n",
       "</div>"
      ],
      "text/plain": [
       "                                        name     score\n",
       "603  Чемпионат Санкт-Петербурга. Первая лига -4.437388\n",
       "488                              Угрюмый Ёрш -2.303805\n",
       "35              Первенство правого полушария -2.076394\n",
       "579                       Воображаемый музей -1.984692\n",
       "254                         Записки охотника -1.802301\n",
       "12                             Кубок городов -1.732424\n",
       "22                         Ускользающая сова -1.693091\n",
       "342                         Знание – Сила VI -1.682342\n",
       "200  Чемпионат Минска. Лига А. Тур четвёртый -1.567977\n",
       "157                         Чемпионат России -1.567505\n",
       "500          Чемпионат Мира. Этап 2 Группа С -1.553119\n",
       "367                   All Cats Are Beautiful -1.542283\n",
       "499         Чемпионат Мира. Этап 2. Группа В -1.533655\n",
       "41          VERSUS: Коробейников vs. Матвеев -1.524230\n",
       "36                                 Антибинго -1.495147"
      ]
     },
     "execution_count": 105,
     "metadata": {},
     "output_type": "execute_result"
    }
   ],
   "source": [
    "# топ сложных турниров\n",
    "top_questions.sort_values(by='score').head(15) "
   ]
  },
  {
   "cell_type": "code",
   "execution_count": 106,
   "id": "aa7af743",
   "metadata": {},
   "outputs": [
    {
     "data": {
      "text/html": [
       "<div>\n",
       "<style scoped>\n",
       "    .dataframe tbody tr th:only-of-type {\n",
       "        vertical-align: middle;\n",
       "    }\n",
       "\n",
       "    .dataframe tbody tr th {\n",
       "        vertical-align: top;\n",
       "    }\n",
       "\n",
       "    .dataframe thead th {\n",
       "        text-align: right;\n",
       "    }\n",
       "</style>\n",
       "<table border=\"1\" class=\"dataframe\">\n",
       "  <thead>\n",
       "    <tr style=\"text-align: right;\">\n",
       "      <th></th>\n",
       "      <th>name</th>\n",
       "      <th>score</th>\n",
       "    </tr>\n",
       "  </thead>\n",
       "  <tbody>\n",
       "    <tr>\n",
       "      <th>265</th>\n",
       "      <td>Межфакультетский кубок МГУ. Отбор №4</td>\n",
       "      <td>1.709038</td>\n",
       "    </tr>\n",
       "    <tr>\n",
       "      <th>542</th>\n",
       "      <td>Второй тематический турнир имени Джоуи Триббиани</td>\n",
       "      <td>1.733045</td>\n",
       "    </tr>\n",
       "    <tr>\n",
       "      <th>545</th>\n",
       "      <td>Малый кубок Физтеха</td>\n",
       "      <td>1.767997</td>\n",
       "    </tr>\n",
       "    <tr>\n",
       "      <th>351</th>\n",
       "      <td>(а)Синхрон-lite. Лига старта. Эпизод X</td>\n",
       "      <td>1.855258</td>\n",
       "    </tr>\n",
       "    <tr>\n",
       "      <th>510</th>\n",
       "      <td>Школьная лига. III тур.</td>\n",
       "      <td>1.862519</td>\n",
       "    </tr>\n",
       "    <tr>\n",
       "      <th>613</th>\n",
       "      <td>Школьная лига</td>\n",
       "      <td>1.872390</td>\n",
       "    </tr>\n",
       "    <tr>\n",
       "      <th>62</th>\n",
       "      <td>(а)Синхрон-lite. Лига старта. Эпизод VI</td>\n",
       "      <td>1.904319</td>\n",
       "    </tr>\n",
       "    <tr>\n",
       "      <th>493</th>\n",
       "      <td>Школьная лига. I тур.</td>\n",
       "      <td>1.916568</td>\n",
       "    </tr>\n",
       "    <tr>\n",
       "      <th>8</th>\n",
       "      <td>(а)Синхрон-lite. Лига старта. Эпизод IV</td>\n",
       "      <td>1.947398</td>\n",
       "    </tr>\n",
       "    <tr>\n",
       "      <th>150</th>\n",
       "      <td>Студенческий чемпионат Калининградской области</td>\n",
       "      <td>1.976759</td>\n",
       "    </tr>\n",
       "    <tr>\n",
       "      <th>9</th>\n",
       "      <td>Школьный Синхрон-lite. Выпуск 2.5</td>\n",
       "      <td>2.017938</td>\n",
       "    </tr>\n",
       "    <tr>\n",
       "      <th>345</th>\n",
       "      <td>(а)Синхрон-lite. Лига старта. Эпизод VII</td>\n",
       "      <td>2.139301</td>\n",
       "    </tr>\n",
       "    <tr>\n",
       "      <th>349</th>\n",
       "      <td>(а)Синхрон-lite. Лига старта. Эпизод IX</td>\n",
       "      <td>2.157626</td>\n",
       "    </tr>\n",
       "    <tr>\n",
       "      <th>6</th>\n",
       "      <td>(а)Синхрон-lite. Лига старта. Эпизод III</td>\n",
       "      <td>2.189667</td>\n",
       "    </tr>\n",
       "    <tr>\n",
       "      <th>10</th>\n",
       "      <td>(а)Синхрон-lite. Лига старта. Эпизод V</td>\n",
       "      <td>2.385755</td>\n",
       "    </tr>\n",
       "  </tbody>\n",
       "</table>\n",
       "</div>"
      ],
      "text/plain": [
       "                                                 name     score\n",
       "265              Межфакультетский кубок МГУ. Отбор №4  1.709038\n",
       "542  Второй тематический турнир имени Джоуи Триббиани  1.733045\n",
       "545                               Малый кубок Физтеха  1.767997\n",
       "351            (а)Синхрон-lite. Лига старта. Эпизод X  1.855258\n",
       "510                           Школьная лига. III тур.  1.862519\n",
       "613                                     Школьная лига  1.872390\n",
       "62            (а)Синхрон-lite. Лига старта. Эпизод VI  1.904319\n",
       "493                             Школьная лига. I тур.  1.916568\n",
       "8             (а)Синхрон-lite. Лига старта. Эпизод IV  1.947398\n",
       "150    Студенческий чемпионат Калининградской области  1.976759\n",
       "9                   Школьный Синхрон-lite. Выпуск 2.5  2.017938\n",
       "345          (а)Синхрон-lite. Лига старта. Эпизод VII  2.139301\n",
       "349           (а)Синхрон-lite. Лига старта. Эпизод IX  2.157626\n",
       "6            (а)Синхрон-lite. Лига старта. Эпизод III  2.189667\n",
       "10             (а)Синхрон-lite. Лига старта. Эпизод V  2.385755"
      ]
     },
     "execution_count": 106,
     "metadata": {},
     "output_type": "execute_result"
    }
   ],
   "source": [
    "# топ легких турниров\n",
    "top_questions.sort_values(by='score').tail(15) "
   ]
  },
  {
   "cell_type": "markdown",
   "id": "cb8eb4ff",
   "metadata": {},
   "source": [
    "Топы турниров соответствуют интуиции, самые сложные - чемпионаты мира, стран и крупных городов. самые легкие - синхроны и школьные лиги "
   ]
  },
  {
   "cell_type": "markdown",
   "id": "e539ae17",
   "metadata": {},
   "source": [
    "## part 4"
   ]
  },
  {
   "cell_type": "code",
   "execution_count": 114,
   "id": "c97a74ae",
   "metadata": {},
   "outputs": [],
   "source": [
    "from scipy.special import logit"
   ]
  },
  {
   "cell_type": "code",
   "execution_count": 128,
   "id": "6434a4db",
   "metadata": {},
   "outputs": [],
   "source": [
    "eps = 1e-5\n",
    "init_y = model.predict_proba(X)[:, 1] * y\n",
    "init_y = np.clip(init_y, eps, 1-eps)"
   ]
  }
 ],
 "metadata": {
  "kernelspec": {
   "display_name": "Python 3 (ipykernel)",
   "language": "python",
   "name": "python3"
  },
  "language_info": {
   "codemirror_mode": {
    "name": "ipython",
    "version": 3
   },
   "file_extension": ".py",
   "mimetype": "text/x-python",
   "name": "python",
   "nbconvert_exporter": "python",
   "pygments_lexer": "ipython3",
   "version": "3.9.12"
  }
 },
 "nbformat": 4,
 "nbformat_minor": 5
}
